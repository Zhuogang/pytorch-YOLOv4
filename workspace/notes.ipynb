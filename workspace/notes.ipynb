{
 "cells": [
  {
   "cell_type": "code",
   "execution_count": 1,
   "metadata": {},
   "outputs": [],
   "source": [
    "import requests\n",
    "\n",
    "\n",
    "def download_file_from_google_drive(id, destination):\n",
    "    data = {'export': 'download', 'confirm': 't'}\n",
    "    response = requests.post('https://drive.google.com/uc?id=1wv_LiFeCRYwtpkqREPeI13-gPELBDwuJ', data=data)\n",
    "    save_response_content(response, destination)\n",
    " \n",
    "def save_response_content(response, destination):\n",
    "    CHUNK_SIZE = 32768\n",
    "    with open(destination, \"wb\") as f:\n",
    "        for chunk in response.iter_content(CHUNK_SIZE):\n",
    "            if chunk:  # filter out keep-alive new chunks\n",
    "                f.write(chunk)\n",
    "\n",
    "download_file_from_google_drive('1wv_LiFeCRYwtpkqREPeI13-gPELBDwuJ', './yolo_v4.pth')"
   ]
  },
  {
   "cell_type": "code",
   "execution_count": 3,
   "metadata": {},
   "outputs": [
    {
     "name": "stdout",
     "output_type": "stream",
     "text": [
      "Collecting torchvision\n",
      "  Using cached torchvision-0.12.0-cp37-cp37m-manylinux1_x86_64.whl (21.0 MB)\n",
      "Requirement already satisfied: pillow!=8.3.*,>=5.3.0 in /home/jo/yolov4_torch/lib/python3.7/site-packages (from torchvision) (7.1.2)\n",
      "Requirement already satisfied: numpy in /home/jo/yolov4_torch/lib/python3.7/site-packages (from torchvision) (1.18.2)\n",
      "Collecting torch==1.11.0\n",
      "  Using cached torch-1.11.0-cp37-cp37m-manylinux1_x86_64.whl (750.6 MB)\n",
      "Requirement already satisfied: typing-extensions in /home/jo/yolov4_torch/lib/python3.7/site-packages (from torchvision) (4.2.0)\n",
      "Requirement already satisfied: requests in /home/jo/yolov4_torch/lib/python3.7/site-packages (from torchvision) (2.27.1)\n",
      "Requirement already satisfied: idna<4,>=2.5 in /home/jo/yolov4_torch/lib/python3.7/site-packages (from requests->torchvision) (3.3)\n",
      "Requirement already satisfied: urllib3<1.27,>=1.21.1 in /home/jo/yolov4_torch/lib/python3.7/site-packages (from requests->torchvision) (1.26.9)\n",
      "Requirement already satisfied: charset-normalizer~=2.0.0 in /home/jo/yolov4_torch/lib/python3.7/site-packages (from requests->torchvision) (2.0.12)\n",
      "Requirement already satisfied: certifi>=2017.4.17 in /home/jo/yolov4_torch/lib/python3.7/site-packages (from requests->torchvision) (2021.10.8)\n",
      "Installing collected packages: torch, torchvision\n",
      "  Attempting uninstall: torch\n",
      "    Found existing installation: torch 1.4.0\n",
      "    Uninstalling torch-1.4.0:\n",
      "      Successfully uninstalled torch-1.4.0\n",
      "Successfully installed torch-1.11.0 torchvision-0.12.0\n"
     ]
    }
   ],
   "source": [
    "!pip install torchvision"
   ]
  },
  {
   "cell_type": "code",
   "execution_count": 7,
   "metadata": {},
   "outputs": [
    {
     "name": "stdout",
     "output_type": "stream",
     "text": [
      "log file path:log/log_2022-05-10_11-17-39.txt\n",
      "2022-05-10 11:17:39,748 train.py[line:614] INFO: Using device cuda\n",
      "/home/jo/yolov4_torch/lib/python3.7/site-packages/torch/cuda/__init__.py:145: UserWarning: \n",
      "NVIDIA GeForce RTX 3060 Laptop GPU with CUDA capability sm_86 is not compatible with the current PyTorch installation.\n",
      "The current PyTorch install supports CUDA capabilities sm_37 sm_50 sm_60 sm_70.\n",
      "If you want to use the NVIDIA GeForce RTX 3060 Laptop GPU GPU with PyTorch, please check the instructions at https://pytorch.org/get-started/locally/\n",
      "\n",
      "  warnings.warn(incompatible_device_warn.format(device_name, capability, \" \".join(arch_list), device_name))\n",
      "2022-05-10 11:17:40,550 train.py[line:327] INFO: Starting training:\n",
      "        Epochs:          300\n",
      "        Batch size:      4\n",
      "        Subdivisions:    1\n",
      "        Learning rate:   0.001\n",
      "        Training size:   96\n",
      "        Validation size: 12\n",
      "        Checkpoints:     True\n",
      "        Device:          cuda\n",
      "        Images size:     608\n",
      "        Optimizer:       adam\n",
      "        Dataset classes: 1\n",
      "        Train label path:/home/jo/pytorch-YOLOv4/custom_data/train.txt\n",
      "        Pretrained:\n",
      "    \n",
      "Epoch 1/300:   0%|        | 0/96 [00:02<?, ?img/s]\n",
      "Traceback (most recent call last):\n",
      "  File \"/home/jo/pytorch-YOLOv4/train.py\", line 629, in <module>\n",
      "    device=device, )\n",
      "  File \"/home/jo/pytorch-YOLOv4/train.py\", line 376, in train\n",
      "    images = images.to(device=device, dtype=torch.float32)\n",
      "RuntimeError: CUDA error: no kernel image is available for execution on the device\n",
      "CUDA kernel errors might be asynchronously reported at some other API call,so the stacktrace below might be incorrect.\n",
      "For debugging consider passing CUDA_LAUNCH_BLOCKING=1.\n"
     ]
    }
   ],
   "source": [
    "!python /home/jo/pytorch-YOLOv4/train.py -l 0.001 -g 0 -pretrained /home/jo/pytorch-YOLOv4/workspace/yolo_v4.pth -classes 1 -dir /home/jo/pytorch-YOLOv4/custom_data/images\n"
   ]
  },
  {
   "cell_type": "code",
   "execution_count": null,
   "metadata": {},
   "outputs": [],
   "source": []
  }
 ],
 "metadata": {
  "interpreter": {
   "hash": "2755b71549b371a3bc2c7de43fa24747f46e6b2c2d791b3980ccce1a29c16c66"
  },
  "kernelspec": {
   "display_name": "yolov4_torch",
   "language": "python",
   "name": "yolov4_torch"
  },
  "language_info": {
   "codemirror_mode": {
    "name": "ipython",
    "version": 3
   },
   "file_extension": ".py",
   "mimetype": "text/x-python",
   "name": "python",
   "nbconvert_exporter": "python",
   "pygments_lexer": "ipython3",
   "version": "3.7.13"
  },
  "orig_nbformat": 4
 },
 "nbformat": 4,
 "nbformat_minor": 2
}
