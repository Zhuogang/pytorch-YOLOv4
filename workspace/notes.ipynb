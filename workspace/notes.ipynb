{
 "cells": [
  {
   "cell_type": "code",
   "execution_count": 1,
   "metadata": {},
   "outputs": [],
   "source": [
    "import requests\n",
    "\n",
    "\n",
    "def download_file_from_google_drive(id, destination):\n",
    "    data = {'export': 'download', 'confirm': 't'}\n",
    "    response = requests.post('https://drive.google.com/uc?id=1wv_LiFeCRYwtpkqREPeI13-gPELBDwuJ', data=data)\n",
    "    save_response_content(response, destination)\n",
    " \n",
    "def save_response_content(response, destination):\n",
    "    CHUNK_SIZE = 32768\n",
    "    with open(destination, \"wb\") as f:\n",
    "        for chunk in response.iter_content(CHUNK_SIZE):\n",
    "            if chunk:  # filter out keep-alive new chunks\n",
    "                f.write(chunk)\n",
    "\n",
    "download_file_from_google_drive('1wv_LiFeCRYwtpkqREPeI13-gPELBDwuJ', './yolo_v4.pth')"
   ]
  },
  {
   "cell_type": "code",
   "execution_count": 2,
   "metadata": {},
   "outputs": [],
   "source": [
    "# !pip install torchvision"
   ]
  },
  {
   "cell_type": "code",
   "execution_count": 2,
   "metadata": {},
   "outputs": [
    {
     "data": {
      "text/plain": [
       "True"
      ]
     },
     "execution_count": 2,
     "metadata": {},
     "output_type": "execute_result"
    }
   ],
   "source": [
    "import torch\n",
    "torch.cuda.is_available()"
   ]
  },
  {
   "cell_type": "code",
   "execution_count": 7,
   "metadata": {},
   "outputs": [
    {
     "name": "stdout",
     "output_type": "stream",
     "text": [
      "log file path:log/log_2022-05-10_20-14-21.txt\n",
      "2022-05-10 20:14:21,420 train.py[line:627] INFO: Using device cpu\n",
      "2022-05-10 20:14:22,064 train.py[line:338] INFO: Starting training:\n",
      "        Epochs:          300\n",
      "        Batch size:      4\n",
      "        Subdivisions:    1\n",
      "        Learning rate:   0.001\n",
      "        Training size:   96\n",
      "        Validation size: 12\n",
      "        Checkpoints:     True\n",
      "        Device:          cpu\n",
      "        Images size:     1024\n",
      "        Optimizer:       adam\n",
      "        Dataset classes: 1\n",
      "        Train label path:/home/zhuogang/pytorch-YOLOv4/custom_data/train.txt\n",
      "        Pretrained:\n",
      "    \n",
      "Epoch 1/300:   0%|        | 0/96 [00:00<?, ?img/s]here we go\n",
      "torch.Size([4, 3, 128, 128, 4])\n",
      "torch.Size([4, 3, 128, 128])\n",
      "torch.Size([4, 3, 128, 128])\n",
      "here we go\n",
      "Epoch 1/300:   0%|        | 0/96 [00:21<?, ?img/s]\n",
      "Traceback (most recent call last):\n",
      "  File \"/home/zhuogang/pytorch-YOLOv4/train.py\", line 642, in <module>\n",
      "    device=device, )\n",
      "  File \"/home/zhuogang/pytorch-YOLOv4/train.py\", line 391, in train\n",
      "    loss, loss_xy, loss_wh, loss_obj, loss_cls, loss_l2 = criterion(bboxes_pred, bboxes)\n",
      "  File \"/home/zhuogang/yolov4_torch/lib/python3.7/site-packages/torch/nn/modules/module.py\", line 1110, in _call_impl\n",
      "    return forward_call(*input, **kwargs)\n",
      "  File \"/home/zhuogang/pytorch-YOLOv4/train.py\", line 265, in forward\n",
      "    obj_mask, tgt_mask, tgt_scale, target = self.build_target(pred, labels, batchsize, fsize, n_ch, output_id)\n",
      "  File \"/home/zhuogang/pytorch-YOLOv4/train.py\", line 212, in build_target\n",
      "    pred_ious = bboxes_iou(pred[b].view(-1, 4), truth_box, xyxy=False)\n",
      "RuntimeError: view size is not compatible with input tensor's size and stride (at least one dimension spans across two contiguous subspaces). Use .reshape(...) instead.\n"
     ]
    }
   ],
   "source": [
    "!python /home/zhuogang/pytorch-YOLOv4/train.py -l 0.001 -pretrained /home/zhuogang/pytorch-YOLOv4/workspace/yolo_v4.pth -classes 1 -dir /home/zhuogang/pytorch-YOLOv4/custom_data/images\n"
   ]
  },
  {
   "cell_type": "code",
   "execution_count": 17,
   "metadata": {},
   "outputs": [
    {
     "data": {
      "text/plain": [
       "45"
      ]
     },
     "execution_count": 17,
     "metadata": {},
     "output_type": "execute_result"
    }
   ],
   "source": [
    "ord('-')"
   ]
  },
  {
   "cell_type": "code",
   "execution_count": null,
   "metadata": {},
   "outputs": [],
   "source": [
    "git add -- . ':!/home/zhuogang/pytorch-YOLOv4/custom_data'"
   ]
  },
  {
   "cell_type": "code",
   "execution_count": 14,
   "metadata": {},
   "outputs": [
    {
     "name": "stdout",
     "output_type": "stream",
     "text": [
      "torch.Size([3, 128, 128, 4])\n",
      "torch.Size([49152, 4])\n"
     ]
    }
   ],
   "source": [
    "import torch\n",
    "a = torch.rand(3, 128, 128, 4)\n",
    "\n",
    "print(a.size())\n",
    "\n",
    "print(a.view(-1, 4).size())"
   ]
  },
  {
   "cell_type": "code",
   "execution_count": null,
   "metadata": {},
   "outputs": [],
   "source": [
    "tensorboard --logdir log --host 192.168.212.75 --port 6008"
   ]
  },
  {
   "cell_type": "code",
   "execution_count": null,
   "metadata": {},
   "outputs": [],
   "source": []
  }
 ],
 "metadata": {
  "interpreter": {
   "hash": "2755b71549b371a3bc2c7de43fa24747f46e6b2c2d791b3980ccce1a29c16c66"
  },
  "kernelspec": {
   "display_name": "yolov4_torch",
   "language": "python",
   "name": "yolov4_torch"
  },
  "language_info": {
   "codemirror_mode": {
    "name": "ipython",
    "version": 3
   },
   "file_extension": ".py",
   "mimetype": "text/x-python",
   "name": "python",
   "nbconvert_exporter": "python",
   "pygments_lexer": "ipython3",
   "version": "3.7.13"
  },
  "orig_nbformat": 4
 },
 "nbformat": 4,
 "nbformat_minor": 2
}
