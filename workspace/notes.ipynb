{
 "cells": [
  {
   "cell_type": "code",
   "execution_count": 34,
   "metadata": {},
   "outputs": [],
   "source": [
    "import requests\n",
    "\n",
    "\n",
    "def download_file_from_google_drive(id, destination):\n",
    "    data = {'export': 'download', 'confirm': 't'}\n",
    "    response = requests.post('https://drive.google.com/uc?id=1wv_LiFeCRYwtpkqREPeI13-gPELBDwuJ', data=data)\n",
    "    save_response_content(response, destination)\n",
    " \n",
    "def save_response_content(response, destination):\n",
    "    CHUNK_SIZE = 32768\n",
    "    with open(destination, \"wb\") as f:\n",
    "        for chunk in response.iter_content(CHUNK_SIZE):\n",
    "            if chunk:  # filter out keep-alive new chunks\n",
    "                f.write(chunk)\n",
    "\n",
    "download_file_from_google_drive('1wv_LiFeCRYwtpkqREPeI13-gPELBDwuJ', './yolo_v4.pth')"
   ]
  },
  {
   "cell_type": "code",
   "execution_count": 2,
   "metadata": {},
   "outputs": [],
   "source": [
    "# !pip install torchvision"
   ]
  },
  {
   "cell_type": "code",
   "execution_count": 1,
   "metadata": {},
   "outputs": [
    {
     "data": {
      "text/plain": [
       "True"
      ]
     },
     "execution_count": 1,
     "metadata": {},
     "output_type": "execute_result"
    }
   ],
   "source": [
    "import torch\n",
    "torch.cuda.is_available()"
   ]
  },
  {
   "cell_type": "code",
   "execution_count": null,
   "metadata": {},
   "outputs": [],
   "source": [
    "!python /home/zhuogang/pytorch-YOLOv4/train.py -l 0.001 -pretrained /home/zhuogang/pytorch-YOLOv4/workspace/yolov4.conv.137.pth -classes 1 -dir /home/zhuogang/pytorch-YOLOv4/custom_data320/images\n",
    "# !python /home/zhuogang/pytorch-YOLOv4/train.py -l 0.0001 -classes 1 -dir /home/zhuogang/pytorch-YOLOv4/custom_data320/images\n"
   ]
  },
  {
   "cell_type": "code",
   "execution_count": null,
   "metadata": {},
   "outputs": [],
   "source": []
  },
  {
   "cell_type": "code",
   "execution_count": null,
   "metadata": {},
   "outputs": [],
   "source": []
  },
  {
   "cell_type": "code",
   "execution_count": 4,
   "metadata": {},
   "outputs": [
    {
     "name": "stdout",
     "output_type": "stream",
     "text": [
      "-----------------------------------\n",
      "           Preprocess : 0.000921\n",
      "      Model Inference : 0.033976\n",
      "-----------------------------------\n",
      "here we go\n",
      "tensor(0.6756, device='cuda:0')\n",
      "here we go\n",
      "-----------------------------------\n",
      "       max and argmax : 0.000255\n",
      "                  nms : 0.003802\n",
      "Post processing total : 0.004057\n",
      "-----------------------------------\n",
      "-----------------------------------\n",
      "           Preprocess : 0.000659\n",
      "      Model Inference : 0.025311\n",
      "-----------------------------------\n",
      "here we go\n",
      "tensor(0.6756, device='cuda:0')\n",
      "here we go\n",
      "-----------------------------------\n",
      "       max and argmax : 0.000219\n",
      "                  nms : 0.003490\n",
      "Post processing total : 0.003710\n",
      "-----------------------------------\n",
      "All PRICE TAGS: 0.675588\n",
      "All PRICE TAGS: 0.672263\n",
      "All PRICE TAGS: 0.641858\n",
      "All PRICE TAGS: 0.634383\n",
      "All PRICE TAGS: 0.586290\n",
      "All PRICE TAGS: 0.583787\n",
      "All PRICE TAGS: 0.573700\n",
      "All PRICE TAGS: 0.571557\n",
      "All PRICE TAGS: 0.554850\n",
      "All PRICE TAGS: 0.537196\n",
      "All PRICE TAGS: 0.531278\n",
      "All PRICE TAGS: 0.523586\n",
      "All PRICE TAGS: 0.516029\n",
      "All PRICE TAGS: 0.505309\n",
      "All PRICE TAGS: 0.494613\n",
      "All PRICE TAGS: 0.483018\n",
      "All PRICE TAGS: 0.472594\n",
      "All PRICE TAGS: 0.470984\n",
      "All PRICE TAGS: 0.470933\n",
      "All PRICE TAGS: 0.469298\n",
      "All PRICE TAGS: 0.469126\n",
      "All PRICE TAGS: 0.468882\n",
      "All PRICE TAGS: 0.460798\n",
      "All PRICE TAGS: 0.460293\n",
      "All PRICE TAGS: 0.456389\n",
      "All PRICE TAGS: 0.455790\n",
      "All PRICE TAGS: 0.451339\n",
      "All PRICE TAGS: 0.444441\n",
      "All PRICE TAGS: 0.439593\n",
      "All PRICE TAGS: 0.435046\n",
      "All PRICE TAGS: 0.433350\n",
      "All PRICE TAGS: 0.431085\n",
      "All PRICE TAGS: 0.428297\n",
      "All PRICE TAGS: 0.407261\n",
      "All PRICE TAGS: 0.402866\n",
      "All PRICE TAGS: 0.396998\n",
      "All PRICE TAGS: 0.393735\n",
      "All PRICE TAGS: 0.392431\n",
      "All PRICE TAGS: 0.389643\n",
      "All PRICE TAGS: 0.388056\n",
      "All PRICE TAGS: 0.378225\n",
      "All PRICE TAGS: 0.373936\n",
      "All PRICE TAGS: 0.365037\n",
      "All PRICE TAGS: 0.361822\n",
      "All PRICE TAGS: 0.360900\n",
      "All PRICE TAGS: 0.359199\n",
      "All PRICE TAGS: 0.359078\n",
      "All PRICE TAGS: 0.358742\n",
      "All PRICE TAGS: 0.356503\n",
      "All PRICE TAGS: 0.355860\n",
      "All PRICE TAGS: 0.352721\n",
      "All PRICE TAGS: 0.350090\n",
      "All PRICE TAGS: 0.348713\n",
      "All PRICE TAGS: 0.347519\n",
      "All PRICE TAGS: 0.339996\n",
      "All PRICE TAGS: 0.338680\n",
      "All PRICE TAGS: 0.336863\n",
      "All PRICE TAGS: 0.334601\n",
      "All PRICE TAGS: 0.332402\n",
      "All PRICE TAGS: 0.326959\n",
      "All PRICE TAGS: 0.326883\n",
      "All PRICE TAGS: 0.326462\n",
      "All PRICE TAGS: 0.324880\n",
      "All PRICE TAGS: 0.322723\n",
      "All PRICE TAGS: 0.319765\n",
      "All PRICE TAGS: 0.318817\n",
      "All PRICE TAGS: 0.318475\n",
      "All PRICE TAGS: 0.317929\n",
      "All PRICE TAGS: 0.315723\n",
      "All PRICE TAGS: 0.314859\n",
      "All PRICE TAGS: 0.313743\n",
      "All PRICE TAGS: 0.313731\n",
      "All PRICE TAGS: 0.312542\n",
      "All PRICE TAGS: 0.310196\n",
      "All PRICE TAGS: 0.309561\n",
      "All PRICE TAGS: 0.309274\n",
      "All PRICE TAGS: 0.309222\n",
      "All PRICE TAGS: 0.307593\n",
      "All PRICE TAGS: 0.306259\n",
      "All PRICE TAGS: 0.305149\n",
      "All PRICE TAGS: 0.304924\n",
      "All PRICE TAGS: 0.303858\n",
      "All PRICE TAGS: 0.302408\n",
      "All PRICE TAGS: 0.301428\n",
      "All PRICE TAGS: 0.298636\n",
      "All PRICE TAGS: 0.297915\n",
      "All PRICE TAGS: 0.297811\n",
      "All PRICE TAGS: 0.294807\n",
      "All PRICE TAGS: 0.294645\n",
      "All PRICE TAGS: 0.292170\n",
      "All PRICE TAGS: 0.289105\n",
      "All PRICE TAGS: 0.287516\n",
      "All PRICE TAGS: 0.286536\n",
      "All PRICE TAGS: 0.285641\n",
      "All PRICE TAGS: 0.280019\n",
      "All PRICE TAGS: 0.278896\n",
      "All PRICE TAGS: 0.278073\n",
      "All PRICE TAGS: 0.276134\n",
      "All PRICE TAGS: 0.275748\n",
      "All PRICE TAGS: 0.275299\n",
      "All PRICE TAGS: 0.274149\n",
      "All PRICE TAGS: 0.273573\n",
      "All PRICE TAGS: 0.271396\n",
      "All PRICE TAGS: 0.270672\n",
      "All PRICE TAGS: 0.270566\n",
      "All PRICE TAGS: 0.268609\n",
      "All PRICE TAGS: 0.267141\n",
      "All PRICE TAGS: 0.266776\n",
      "All PRICE TAGS: 0.263318\n",
      "All PRICE TAGS: 0.260415\n",
      "All PRICE TAGS: 0.260387\n",
      "All PRICE TAGS: 0.258749\n",
      "All PRICE TAGS: 0.256423\n",
      "All PRICE TAGS: 0.247411\n",
      "All PRICE TAGS: 0.247114\n",
      "All PRICE TAGS: 0.246898\n",
      "All PRICE TAGS: 0.228432\n",
      "All PRICE TAGS: 0.220432\n",
      "All PRICE TAGS: 0.215044\n",
      "All PRICE TAGS: 0.209457\n",
      "All PRICE TAGS: 0.203579\n",
      "All PRICE TAGS: 0.197611\n",
      "All PRICE TAGS: 0.196726\n",
      "All PRICE TAGS: 0.178703\n",
      "All PRICE TAGS: 0.162384\n",
      "All PRICE TAGS: 0.159178\n",
      "All PRICE TAGS: 0.156677\n",
      "All PRICE TAGS: 0.134788\n",
      "All PRICE TAGS: 0.130690\n",
      "All PRICE TAGS: 0.123845\n",
      "save plot results to predictions.jpg\n"
     ]
    }
   ],
   "source": [
    "# !python /home/jo/pytorch-YOLOv4/models.py <num_classes> <weightfile> <imgfile> <IN_IMAGE_H> <IN_IMAGE_W> <namefile(optional)>\n",
    "!python /home/zhuogang/pytorch-YOLOv4/models.py 1 /home/zhuogang/pytorch-YOLOv4/checkpoints/Yolov4_epoch200.pth /home/zhuogang/pytorch-YOLOv4/custom_data320/images/im_13.jpeg 320 320 /home/zhuogang/pytorch-YOLOv4/custom_data320/labels.txt\n"
   ]
  },
  {
   "cell_type": "code",
   "execution_count": 32,
   "metadata": {},
   "outputs": [
    {
     "data": {
      "text/plain": [
       "-1"
      ]
     },
     "execution_count": 32,
     "metadata": {},
     "output_type": "execute_result"
    }
   ],
   "source": [
    "import cv2\n",
    "\n",
    "img = cv2.imread(\"/home/jo/pytorch-YOLOv4/custom_data/images/im_2.jpeg\")\n",
    "color = (255, 0, 0)\n",
    "thickness = 1\n",
    "\n",
    "image = cv2.rectangle(img, (206,462), (248, 489), color, thickness)\n",
    "\n",
    "cv2.imshow('Image', image) \n",
    "\n",
    "cv2.waitKey(1000)\n",
    "# cv2.destroyAllWindows()\n"
   ]
  },
  {
   "cell_type": "code",
   "execution_count": 33,
   "metadata": {},
   "outputs": [],
   "source": [
    "cv2.destroyAllWindows()"
   ]
  },
  {
   "cell_type": "code",
   "execution_count": null,
   "metadata": {},
   "outputs": [],
   "source": []
  },
  {
   "cell_type": "code",
   "execution_count": null,
   "metadata": {},
   "outputs": [],
   "source": []
  },
  {
   "cell_type": "code",
   "execution_count": null,
   "metadata": {},
   "outputs": [],
   "source": []
  },
  {
   "cell_type": "code",
   "execution_count": 4,
   "metadata": {},
   "outputs": [
    {
     "data": {
      "text/plain": [
       "['sm_37', 'sm_50', 'sm_60', 'sm_70', 'sm_75', 'sm_80', 'sm_86']"
      ]
     },
     "execution_count": 4,
     "metadata": {},
     "output_type": "execute_result"
    }
   ],
   "source": [
    "import torch\n",
    "\n",
    "torch.cuda.get_arch_list()"
   ]
  },
  {
   "cell_type": "code",
   "execution_count": 17,
   "metadata": {},
   "outputs": [
    {
     "data": {
      "text/plain": [
       "45"
      ]
     },
     "execution_count": 17,
     "metadata": {},
     "output_type": "execute_result"
    }
   ],
   "source": []
  },
  {
   "cell_type": "code",
   "execution_count": null,
   "metadata": {},
   "outputs": [],
   "source": [
    "# git add -- . ':!/home/zhuogang/pytorch-YOLOv4/custom_data'"
   ]
  },
  {
   "cell_type": "code",
   "execution_count": 14,
   "metadata": {},
   "outputs": [
    {
     "name": "stdout",
     "output_type": "stream",
     "text": [
      "torch.Size([3, 128, 128, 4])\n",
      "torch.Size([49152, 4])\n"
     ]
    }
   ],
   "source": [
    "# import torch\n",
    "# a = torch.rand(3, 128, 128, 4)\n",
    "\n",
    "# print(a.size())\n",
    "\n",
    "# print(a.view(-1, 4).size())"
   ]
  },
  {
   "cell_type": "code",
   "execution_count": 8,
   "metadata": {},
   "outputs": [
    {
     "name": "stdout",
     "output_type": "stream",
     "text": [
      "TensorFlow installation not found - running with reduced feature set.\n",
      "\n",
      "NOTE: Using experimental fast data loading logic. To disable, pass\n",
      "    \"--load_fast=false\" and report issues on GitHub. More details:\n",
      "    https://github.com/tensorflow/tensorboard/issues/4784\n",
      "\n",
      "E0511 18:49:46.883618 140302824437568 program.py:298] TensorBoard could not bind to unavailable address 192.168.212.75\n",
      "ERROR: TensorBoard could not bind to unavailable address 192.168.212.75\n"
     ]
    }
   ],
   "source": [
    "!tensorboard --logdir log --host 192.168.212.75 --port 6008\n",
    "# tensorboard --logdir log "
   ]
  },
  {
   "cell_type": "code",
   "execution_count": null,
   "metadata": {},
   "outputs": [],
   "source": []
  }
 ],
 "metadata": {
  "interpreter": {
   "hash": "498db7c0eed19b2e1318cf44b946c7a01821facb5e79a42a4e73820772fc7f85"
  },
  "kernelspec": {
   "display_name": "yolov4_torch",
   "language": "python",
   "name": "yolov4_torch"
  },
  "language_info": {
   "codemirror_mode": {
    "name": "ipython",
    "version": 3
   },
   "file_extension": ".py",
   "mimetype": "text/x-python",
   "name": "python",
   "nbconvert_exporter": "python",
   "pygments_lexer": "ipython3",
   "version": "3.7.13"
  },
  "orig_nbformat": 4
 },
 "nbformat": 4,
 "nbformat_minor": 2
}
